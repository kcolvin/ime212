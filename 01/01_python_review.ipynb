{
 "cells": [
  {
   "cell_type": "markdown",
   "metadata": {},
   "source": [
    "# Python Review\n",
    "\n",
    "Hopefully, you've been exposed to Python before. If so, this is a review of material you've already had. If not, it is not difficult to learn. \n",
    "\n",
    "There are many references on the web that are excellent resources to learn Python, or just look up how to do something.  I love W3Schools.com: https://www.w3schools.com/python/default.asp\n",
    "\n",
    "I'll often point you to a section on the Python textbook, Think Python by Allen Downey. The link to this book is under aAdditional Resources"
   ]
  },
  {
   "cell_type": "code",
   "execution_count": 10,
   "metadata": {},
   "outputs": [
    {
     "name": "stdout",
     "output_type": "stream",
     "text": [
      "3.7.6 (default, Jan  8 2020, 20:23:39) [MSC v.1916 64 bit (AMD64)]\n",
      "C:\\Users\\Dell\\anaconda3\\python.exe\n"
     ]
    }
   ],
   "source": [
    "# Verify Python version\n",
    "import sys # import the system specific parameters module\n",
    "print(sys.version) # Print the version\n",
    "print(sys.executable) # Print the location of the python executable file"
   ]
  },
  {
   "cell_type": "markdown",
   "metadata": {},
   "source": [
    "<H2> Think Python Section 1.5:</H2>\n",
    "It is important to understand different data types. Sometimes you must consider data types when performing math operations or printing values. "
   ]
  },
  {
   "cell_type": "code",
   "execution_count": 13,
   "metadata": {},
   "outputs": [
    {
     "name": "stdout",
     "output_type": "stream",
     "text": [
      "<class 'int'>\n",
      "<class 'float'>\n",
      "6.1\n",
      "<class 'float'>\n",
      "<class 'str'>\n"
     ]
    }
   ],
   "source": [
    "# Define several primative variable types\n",
    "i = 3 # integer\n",
    "print(type(i))\n",
    "f = 3.1 # float\n",
    "print(type(f))\n",
    "sum = f + i # also a float\n",
    "print(sum)\n",
    "print(type(sum))\n",
    "s = 'bananna' # string\n",
    "print(type(s))"
   ]
  },
  {
   "cell_type": "markdown",
   "metadata": {},
   "source": [
    "Several other Python data types that are useful for data analysis are: lists, tuples and dictionaries"
   ]
  },
  {
   "cell_type": "code",
   "execution_count": 3,
   "metadata": {},
   "outputs": [
    {
     "name": "stdout",
     "output_type": "stream",
     "text": [
      "List:\n",
      "<class 'list'>\n",
      "<class 'str'>\n",
      "<class 'int'>\n",
      "<class 'float'>\n",
      "<class 'list'>\n",
      "Tuple:\n",
      "<class 'tuple'>\n",
      "4\n",
      "<class 'int'>\n",
      "Dictionary:\n",
      "{'brand': 'Ford', 'model': 'Mustang', 'year': 1964}\n",
      "dict_keys(['brand', 'model', 'year'])\n",
      "dict_values(['Ford', 'Mustang', 1964])\n",
      "Mustang\n"
     ]
    }
   ],
   "source": [
    "# Define several other Python data types\n",
    "lst = ['a',1,3.5,[1,2,3,4,5]] # Define a list using []\n",
    "print('List:')\n",
    "print(type(lst))\n",
    "print(type(lst[0]))\n",
    "print(type(lst[1]))\n",
    "print(type(lst[2]))\n",
    "print(type(lst[3]))\n",
    "t = ('a',3,4,5.5) # Define a tuple using ()\n",
    "print('Tuple:')\n",
    "print(type(t))\n",
    "print(t[2])\n",
    "print(type(t[2]))\n",
    "d = {\"brand\": \"Ford\",\"model\": \"Mustang\",\"year\": 1964} # Define a dictionary using {} and key value pairs\n",
    "print('Dictionary:')\n",
    "print(d)\n",
    "print(d.keys())\n",
    "print(d.values())\n",
    "print(d.get(\"model\")) # Use the key \"model\" to get the correspoinding value"
   ]
  },
  {
   "cell_type": "code",
   "execution_count": null,
   "metadata": {},
   "outputs": [],
   "source": []
  },
  {
   "cell_type": "code",
   "execution_count": 4,
   "metadata": {},
   "outputs": [
    {
     "name": "stdout",
     "output_type": "stream",
     "text": [
      "It's negative\n"
     ]
    }
   ],
   "source": [
    "# Conditions\n",
    "x = -1\n",
    "if (x > 0):\n",
    "    print('It\\' positive')\n",
    "elif (x == 0):\n",
    "    print('It\\'s Zero')\n",
    "else:\n",
    "    print('It\\'s negative')"
   ]
  },
  {
   "cell_type": "code",
   "execution_count": 5,
   "metadata": {},
   "outputs": [
    {
     "name": "stdout",
     "output_type": "stream",
     "text": [
      "a\n",
      "pickup\n",
      "3\n",
      "4.5\n"
     ]
    }
   ],
   "source": [
    "# For loop\n",
    "lst = ['a','pickup',3,4.5]\n",
    "for item in lst:\n",
    "    print(item)"
   ]
  },
  {
   "cell_type": "code",
   "execution_count": 6,
   "metadata": {},
   "outputs": [
    {
     "name": "stdout",
     "output_type": "stream",
     "text": [
      "a\n",
      "pickup\n",
      "3\n",
      "4.5\n"
     ]
    }
   ],
   "source": [
    "# While loop\n",
    "i = 0\n",
    "while i < len(lst):\n",
    "    print(lst[i])\n",
    "    i = i + 1"
   ]
  },
  {
   "cell_type": "code",
   "execution_count": 7,
   "metadata": {},
   "outputs": [
    {
     "name": "stdout",
     "output_type": "stream",
     "text": [
      "Hello World\n"
     ]
    }
   ],
   "source": [
    "# Define functions: no arguments, no return value\n",
    "def hello_world():\n",
    "  print('Hello World')\n",
    "\n",
    "hello_world()"
   ]
  },
  {
   "cell_type": "code",
   "execution_count": 8,
   "metadata": {},
   "outputs": [
    {
     "name": "stdout",
     "output_type": "stream",
     "text": [
      "My name is Michael Jordan\n"
     ]
    }
   ],
   "source": [
    "# Define functions: with arguments, no return value\n",
    "def take_args(fname,lname):\n",
    "  print('My name is '+ fname + ' ' + lname)\n",
    "\n",
    "y = 'Michael'\n",
    "z = 'Jordan'\n",
    "take_args(y,z)"
   ]
  },
  {
   "cell_type": "code",
   "execution_count": 9,
   "metadata": {},
   "outputs": [
    {
     "name": "stdout",
     "output_type": "stream",
     "text": [
      "27\n"
     ]
    }
   ],
   "source": [
    "# Define functions: with arguments, with return value\n",
    "def cubeIt(num):\n",
    "    cube = num*num*num\n",
    "    return cube\n",
    "\n",
    "x = cubeIt(3)\n",
    "print(x)"
   ]
  },
  {
   "cell_type": "code",
   "execution_count": null,
   "metadata": {},
   "outputs": [],
   "source": []
  }
 ],
 "metadata": {
  "kernelspec": {
   "display_name": "Python 3",
   "language": "python",
   "name": "python3"
  },
  "language_info": {
   "codemirror_mode": {
    "name": "ipython",
    "version": 3
   },
   "file_extension": ".py",
   "mimetype": "text/x-python",
   "name": "python",
   "nbconvert_exporter": "python",
   "pygments_lexer": "ipython3",
   "version": "3.7.6"
  }
 },
 "nbformat": 4,
 "nbformat_minor": 4
}
