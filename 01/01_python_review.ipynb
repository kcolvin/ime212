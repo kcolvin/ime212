{
 "cells": [
  {
   "cell_type": "markdown",
   "metadata": {},
   "source": [
    "# Python Review\n",
    "Reference Think Python(TP) textbook under Additional Resources"
   ]
  },
  {
   "cell_type": "code",
   "execution_count": 27,
   "metadata": {},
   "outputs": [
    {
     "name": "stdout",
     "output_type": "stream",
     "text": [
      "3.7.6 (default, Jan  8 2020, 20:23:39) [MSC v.1916 64 bit (AMD64)]\n",
      "C:\\Users\\Dell\\anaconda3\\python.exe\n"
     ]
    }
   ],
   "source": [
    "# Verify Python version\n",
    "import sys # import the system specific parameters module\n",
    "print(sys.version) # Print the version\n",
    "print(sys.executable) # Print the location of the python executable file"
   ]
  },
  {
   "cell_type": "code",
   "execution_count": 18,
   "metadata": {},
   "outputs": [
    {
     "name": "stdout",
     "output_type": "stream",
     "text": [
      "<class 'int'>\n",
      "<class 'float'>\n",
      "<class 'str'>\n"
     ]
    }
   ],
   "source": [
    "# Define several primative variable types\n",
    "i = 3 # integer\n",
    "print(type(i))\n",
    "f = 3.1 # float\n",
    "print(type(f))\n",
    "s = 'bananna' # string\n",
    "print(type(s))"
   ]
  },
  {
   "cell_type": "code",
   "execution_count": 32,
   "metadata": {},
   "outputs": [
    {
     "name": "stdout",
     "output_type": "stream",
     "text": [
      "List:\n",
      "<class 'list'>\n",
      "<class 'str'>\n",
      "<class 'int'>\n",
      "<class 'float'>\n",
      "<class 'list'>\n",
      "Tuple:\n",
      "<class 'tuple'>\n",
      "4\n",
      "<class 'int'>\n",
      "Dictionary:\n",
      "{'brand': 'Ford', 'model': 'Mustang', 'year': 1964}\n",
      "dict_keys(['brand', 'model', 'year'])\n",
      "dict_values(['Ford', 'Mustang', 1964])\n",
      "Mustang\n"
     ]
    }
   ],
   "source": [
    "# Define several other Python data types\n",
    "lst = ['a',1,3.5,[1,2,3,4,5]] # Define a list using []\n",
    "print('List:')\n",
    "print(type(lst))\n",
    "print(type(lst[0]))\n",
    "print(type(lst[1]))\n",
    "print(type(lst[2]))\n",
    "print(type(lst[3]))\n",
    "t = ('a',3,4,5.5) # Define a tuple using ()\n",
    "print('Tuple:')\n",
    "print(type(t))\n",
    "print(t[2])\n",
    "print(type(t[2]))\n",
    "d = {\"brand\": \"Ford\",\"model\": \"Mustang\",\"year\": 1964} # Define a dictionary using {} and key value pairs\n",
    "print('Dictionary:')\n",
    "print(d)\n",
    "print(d.keys())\n",
    "print(d.values())\n",
    "print(d.get(\"model\")) # Use the key \"model\" to get the correspoinding value"
   ]
  },
  {
   "cell_type": "code",
   "execution_count": 33,
   "metadata": {},
   "outputs": [
    {
     "name": "stdout",
     "output_type": "stream",
     "text": [
      "Its negative\n"
     ]
    }
   ],
   "source": [
    "# Conditions\n",
    "x = -1\n",
    "if (x > 0):\n",
    "    print('It'' positive')\n",
    "elif (x == 0):\n",
    "    print('It''s Zero')\n",
    "else:\n",
    "    print('It''s negative')"
   ]
  },
  {
   "cell_type": "code",
   "execution_count": 35,
   "metadata": {},
   "outputs": [
    {
     "name": "stdout",
     "output_type": "stream",
     "text": [
      "a\n",
      "pickup\n",
      "3\n",
      "4.5\n"
     ]
    }
   ],
   "source": [
    "# For loop\n",
    "lst = ['a','pickup',3,4.5]\n",
    "for item in lst:\n",
    "    print(item)"
   ]
  },
  {
   "cell_type": "code",
   "execution_count": 37,
   "metadata": {},
   "outputs": [
    {
     "name": "stdout",
     "output_type": "stream",
     "text": [
      "a\n",
      "pickup\n",
      "3\n",
      "4.5\n"
     ]
    }
   ],
   "source": [
    "# While loop\n",
    "i = 0\n",
    "while i < len(lst):\n",
    "    print(lst[i])\n",
    "    i = i + 1"
   ]
  }
 ],
 "metadata": {
  "kernelspec": {
   "display_name": "Python 3",
   "language": "python",
   "name": "python3"
  },
  "language_info": {
   "codemirror_mode": {
    "name": "ipython",
    "version": 3
   },
   "file_extension": ".py",
   "mimetype": "text/x-python",
   "name": "python",
   "nbconvert_exporter": "python",
   "pygments_lexer": "ipython3",
   "version": "3.7.6"
  }
 },
 "nbformat": 4,
 "nbformat_minor": 4
}
