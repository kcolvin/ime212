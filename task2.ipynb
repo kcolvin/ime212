{
 "cells": [
  {
   "cell_type": "markdown",
   "metadata": {},
   "source": [
    "<h1>Task 2</h1> - Selecting subsets of data"
   ]
  },
  {
   "cell_type": "markdown",
   "metadata": {},
   "source": [
    "In this task, we are going to work on \"filtering.\" We will isolate columns, then isolate rows according to some search criteria.<p>\n",
    "Here is a good tutorial (much more complete than my examples below): <p>\n",
    "https://medium.com/dunder-data/selecting-subsets-of-data-in-pandas-6fcd0170be9c <p>\n",
    "    \n",
    "Please realize there are many ways to select subsets of data. These are examples of only one way.    "
   ]
  },
  {
   "cell_type": "code",
   "execution_count": 1,
   "metadata": {},
   "outputs": [],
   "source": [
    "# Need to import the library so we can use it\n",
    "import pandas as pd"
   ]
  },
  {
   "cell_type": "markdown",
   "metadata": {},
   "source": [
    "Create a new DataFrame"
   ]
  },
  {
   "cell_type": "code",
   "execution_count": 2,
   "metadata": {},
   "outputs": [
    {
     "data": {
      "text/html": [
       "<div>\n",
       "<style scoped>\n",
       "    .dataframe tbody tr th:only-of-type {\n",
       "        vertical-align: middle;\n",
       "    }\n",
       "\n",
       "    .dataframe tbody tr th {\n",
       "        vertical-align: top;\n",
       "    }\n",
       "\n",
       "    .dataframe thead th {\n",
       "        text-align: right;\n",
       "    }\n",
       "</style>\n",
       "<table border=\"1\" class=\"dataframe\">\n",
       "  <thead>\n",
       "    <tr style=\"text-align: right;\">\n",
       "      <th></th>\n",
       "      <th>DateAndTimeStamp</th>\n",
       "      <th>lon</th>\n",
       "      <th>lat</th>\n",
       "      <th>sats</th>\n",
       "      <th>temp</th>\n",
       "    </tr>\n",
       "  </thead>\n",
       "  <tbody>\n",
       "    <tr>\n",
       "      <th>0</th>\n",
       "      <td>180121155814</td>\n",
       "      <td>-120.639457</td>\n",
       "      <td>35.248264</td>\n",
       "      <td>9</td>\n",
       "      <td>72.96</td>\n",
       "    </tr>\n",
       "    <tr>\n",
       "      <th>1</th>\n",
       "      <td>180121155815</td>\n",
       "      <td>-120.639503</td>\n",
       "      <td>35.248271</td>\n",
       "      <td>9</td>\n",
       "      <td>72.96</td>\n",
       "    </tr>\n",
       "    <tr>\n",
       "      <th>2</th>\n",
       "      <td>180121155816</td>\n",
       "      <td>-120.639556</td>\n",
       "      <td>35.248279</td>\n",
       "      <td>9</td>\n",
       "      <td>72.96</td>\n",
       "    </tr>\n",
       "    <tr>\n",
       "      <th>3</th>\n",
       "      <td>180121155817</td>\n",
       "      <td>-120.639602</td>\n",
       "      <td>35.248291</td>\n",
       "      <td>9</td>\n",
       "      <td>72.08</td>\n",
       "    </tr>\n",
       "    <tr>\n",
       "      <th>4</th>\n",
       "      <td>180121155818</td>\n",
       "      <td>-120.639648</td>\n",
       "      <td>35.248302</td>\n",
       "      <td>9</td>\n",
       "      <td>72.96</td>\n",
       "    </tr>\n",
       "    <tr>\n",
       "      <th>5</th>\n",
       "      <td>180121155819</td>\n",
       "      <td>-120.639694</td>\n",
       "      <td>35.248310</td>\n",
       "      <td>9</td>\n",
       "      <td>72.08</td>\n",
       "    </tr>\n",
       "    <tr>\n",
       "      <th>6</th>\n",
       "      <td>180121155820</td>\n",
       "      <td>-120.639732</td>\n",
       "      <td>35.248321</td>\n",
       "      <td>9</td>\n",
       "      <td>72.08</td>\n",
       "    </tr>\n",
       "    <tr>\n",
       "      <th>7</th>\n",
       "      <td>180121155821</td>\n",
       "      <td>-120.639770</td>\n",
       "      <td>35.248336</td>\n",
       "      <td>9</td>\n",
       "      <td>72.96</td>\n",
       "    </tr>\n",
       "    <tr>\n",
       "      <th>8</th>\n",
       "      <td>180121155822</td>\n",
       "      <td>-120.639808</td>\n",
       "      <td>35.248355</td>\n",
       "      <td>9</td>\n",
       "      <td>72.96</td>\n",
       "    </tr>\n",
       "    <tr>\n",
       "      <th>9</th>\n",
       "      <td>180121155823</td>\n",
       "      <td>-120.639839</td>\n",
       "      <td>35.248374</td>\n",
       "      <td>10</td>\n",
       "      <td>72.96</td>\n",
       "    </tr>\n",
       "  </tbody>\n",
       "</table>\n",
       "</div>"
      ],
      "text/plain": [
       "   DateAndTimeStamp         lon        lat  sats   temp\n",
       "0      180121155814 -120.639457  35.248264     9  72.96\n",
       "1      180121155815 -120.639503  35.248271     9  72.96\n",
       "2      180121155816 -120.639556  35.248279     9  72.96\n",
       "3      180121155817 -120.639602  35.248291     9  72.08\n",
       "4      180121155818 -120.639648  35.248302     9  72.96\n",
       "5      180121155819 -120.639694  35.248310     9  72.08\n",
       "6      180121155820 -120.639732  35.248321     9  72.08\n",
       "7      180121155821 -120.639770  35.248336     9  72.96\n",
       "8      180121155822 -120.639808  35.248355     9  72.96\n",
       "9      180121155823 -120.639839  35.248374    10  72.96"
      ]
     },
     "execution_count": 2,
     "metadata": {},
     "output_type": "execute_result"
    }
   ],
   "source": [
    "df1 = pd.DataFrame([[180121155814,-120.639457,35.248264,9,72.96],\n",
    "                   [180121155815,-120.639503,35.248271,9,72.96],\n",
    "                   [180121155816,-120.639556,35.248279,9,72.96],\n",
    "                   [180121155817,-120.639602,35.248291,9,72.08],\n",
    "                   [180121155818,-120.639648,35.248302,9,72.96],\n",
    "                   [180121155819,-120.639694,35.248310,9,72.08],\n",
    "                   [180121155820,-120.639732,35.248321,9,72.08],\n",
    "                   [180121155821,-120.639770,35.248336,9,72.96],\n",
    "                   [180121155822,-120.639808,35.248355,9,72.96],\n",
    "                   [180121155823,-120.639839,35.248374,10,72.96]],\n",
    "                   columns=['DateAndTimeStamp','lon','lat','sats','temp'])\n",
    "df1"
   ]
  },
  {
   "cell_type": "code",
   "execution_count": 3,
   "metadata": {},
   "outputs": [
    {
     "data": {
      "text/plain": [
       "0    72.96\n",
       "1    72.96\n",
       "2    72.96\n",
       "3    72.08\n",
       "4    72.96\n",
       "5    72.08\n",
       "6    72.08\n",
       "7    72.96\n",
       "8    72.96\n",
       "9    72.96\n",
       "Name: temp, dtype: float64"
      ]
     },
     "execution_count": 3,
     "metadata": {},
     "output_type": "execute_result"
    }
   ],
   "source": [
    "# Let's isolate the temp column and store it in the temp_col variable\n",
    "temp_col = df1['temp']\n",
    "temp_col # just print it out to the screen"
   ]
  },
  {
   "cell_type": "code",
   "execution_count": 5,
   "metadata": {},
   "outputs": [
    {
     "name": "stdout",
     "output_type": "stream",
     "text": [
      "   DateAndTimeStamp         lon        lat  sats   temp\n",
      "0      180121155814 -120.639457  35.248264     9  72.96\n",
      "   DateAndTimeStamp         lon        lat  sats   temp\n",
      "2      180121155816 -120.639556  35.248279     9  72.96\n",
      "3      180121155817 -120.639602  35.248291     9  72.08\n",
      "4      180121155818 -120.639648  35.248302     9  72.96\n",
      "   DateAndTimeStamp   temp\n",
      "0      180121155814  72.96\n",
      "1      180121155815  72.96\n",
      "2      180121155816  72.96\n",
      "3      180121155817  72.08\n",
      "4      180121155818  72.96\n",
      "5      180121155819  72.08\n",
      "6      180121155820  72.08\n",
      "7      180121155821  72.96\n",
      "8      180121155822  72.96\n",
      "9      180121155823  72.96\n"
     ]
    }
   ],
   "source": [
    "# Let's isolate just the first row of df1\n",
    "# We will use the print command here\n",
    "# Using iloc - the integer-location based selection \n",
    "print df1.iloc[[0]]\n",
    "# Print the 3rd - the 5th rows [index 2-5]\n",
    "print df1.iloc[2:5]\n",
    "# All rows, but only the first and 5th columns [index 0,4]\n",
    "print df1.iloc[:,[0,4]]"
   ]
  },
  {
   "cell_type": "code",
   "execution_count": 6,
   "metadata": {},
   "outputs": [
    {
     "data": {
      "text/plain": [
       "0    False\n",
       "1    False\n",
       "2    False\n",
       "3    False\n",
       "4    False\n",
       "5     True\n",
       "6    False\n",
       "7    False\n",
       "8    False\n",
       "9    False\n",
       "Name: DateAndTimeStamp, dtype: bool"
      ]
     },
     "execution_count": 6,
     "metadata": {},
     "output_type": "execute_result"
    }
   ],
   "source": [
    "# Determine if each row matches a criterion\n",
    "# You can see that only one row matches this value\n",
    "df1['DateAndTimeStamp'] == 180121155819"
   ]
  },
  {
   "cell_type": "code",
   "execution_count": 7,
   "metadata": {},
   "outputs": [
    {
     "data": {
      "text/html": [
       "<div>\n",
       "<style scoped>\n",
       "    .dataframe tbody tr th:only-of-type {\n",
       "        vertical-align: middle;\n",
       "    }\n",
       "\n",
       "    .dataframe tbody tr th {\n",
       "        vertical-align: top;\n",
       "    }\n",
       "\n",
       "    .dataframe thead th {\n",
       "        text-align: right;\n",
       "    }\n",
       "</style>\n",
       "<table border=\"1\" class=\"dataframe\">\n",
       "  <thead>\n",
       "    <tr style=\"text-align: right;\">\n",
       "      <th></th>\n",
       "      <th>DateAndTimeStamp</th>\n",
       "      <th>lon</th>\n",
       "      <th>lat</th>\n",
       "      <th>sats</th>\n",
       "      <th>temp</th>\n",
       "    </tr>\n",
       "  </thead>\n",
       "  <tbody>\n",
       "    <tr>\n",
       "      <th>5</th>\n",
       "      <td>180121155819</td>\n",
       "      <td>-120.639694</td>\n",
       "      <td>35.24831</td>\n",
       "      <td>9</td>\n",
       "      <td>72.08</td>\n",
       "    </tr>\n",
       "  </tbody>\n",
       "</table>\n",
       "</div>"
      ],
      "text/plain": [
       "   DateAndTimeStamp         lon       lat  sats   temp\n",
       "5      180121155819 -120.639694  35.24831     9  72.08"
      ]
     },
     "execution_count": 7,
     "metadata": {},
     "output_type": "execute_result"
    }
   ],
   "source": [
    "# Use the information above to select a row from the DF, if it does exist.\n",
    "# df.loc[df['column_name'] == some_value]\n",
    "df1.loc[df1['DateAndTimeStamp'] == 180121155819]"
   ]
  },
  {
   "cell_type": "code",
   "execution_count": 8,
   "metadata": {},
   "outputs": [
    {
     "data": {
      "text/html": [
       "<div>\n",
       "<style scoped>\n",
       "    .dataframe tbody tr th:only-of-type {\n",
       "        vertical-align: middle;\n",
       "    }\n",
       "\n",
       "    .dataframe tbody tr th {\n",
       "        vertical-align: top;\n",
       "    }\n",
       "\n",
       "    .dataframe thead th {\n",
       "        text-align: right;\n",
       "    }\n",
       "</style>\n",
       "<table border=\"1\" class=\"dataframe\">\n",
       "  <thead>\n",
       "    <tr style=\"text-align: right;\">\n",
       "      <th></th>\n",
       "      <th>DateAndTimeStamp</th>\n",
       "      <th>lon</th>\n",
       "      <th>lat</th>\n",
       "      <th>sats</th>\n",
       "      <th>temp</th>\n",
       "    </tr>\n",
       "  </thead>\n",
       "  <tbody>\n",
       "    <tr>\n",
       "      <th>4</th>\n",
       "      <td>180121155818</td>\n",
       "      <td>-120.639648</td>\n",
       "      <td>35.248302</td>\n",
       "      <td>9</td>\n",
       "      <td>72.96</td>\n",
       "    </tr>\n",
       "    <tr>\n",
       "      <th>5</th>\n",
       "      <td>180121155819</td>\n",
       "      <td>-120.639694</td>\n",
       "      <td>35.248310</td>\n",
       "      <td>9</td>\n",
       "      <td>72.08</td>\n",
       "    </tr>\n",
       "    <tr>\n",
       "      <th>6</th>\n",
       "      <td>180121155820</td>\n",
       "      <td>-120.639732</td>\n",
       "      <td>35.248321</td>\n",
       "      <td>9</td>\n",
       "      <td>72.08</td>\n",
       "    </tr>\n",
       "    <tr>\n",
       "      <th>7</th>\n",
       "      <td>180121155821</td>\n",
       "      <td>-120.639770</td>\n",
       "      <td>35.248336</td>\n",
       "      <td>9</td>\n",
       "      <td>72.96</td>\n",
       "    </tr>\n",
       "    <tr>\n",
       "      <th>8</th>\n",
       "      <td>180121155822</td>\n",
       "      <td>-120.639808</td>\n",
       "      <td>35.248355</td>\n",
       "      <td>9</td>\n",
       "      <td>72.96</td>\n",
       "    </tr>\n",
       "  </tbody>\n",
       "</table>\n",
       "</div>"
      ],
      "text/plain": [
       "   DateAndTimeStamp         lon        lat  sats   temp\n",
       "4      180121155818 -120.639648  35.248302     9  72.96\n",
       "5      180121155819 -120.639694  35.248310     9  72.08\n",
       "6      180121155820 -120.639732  35.248321     9  72.08\n",
       "7      180121155821 -120.639770  35.248336     9  72.96\n",
       "8      180121155822 -120.639808  35.248355     9  72.96"
      ]
     },
     "execution_count": 8,
     "metadata": {},
     "output_type": "execute_result"
    }
   ],
   "source": [
    "# Select a range of values for a column and create a new DF\n",
    "# Syntax: df.loc[(df['column_name'] >= lower_bound_value) & (df['column_name'] <= upper_bound_value)]\n",
    "df2 = df1.loc[(df1['DateAndTimeStamp'] >= 180121155818) & (df1['DateAndTimeStamp'] <= 180121155822)]\n",
    "df2"
   ]
  },
  {
   "cell_type": "markdown",
   "metadata": {},
   "source": [
    "<h2>Your turn: From the original DF, select only the rows where the temperature is higher than 72.10 degrees. Store that in a new DF, \"df3\" </h2>"
   ]
  },
  {
   "cell_type": "code",
   "execution_count": null,
   "metadata": {},
   "outputs": [],
   "source": []
  }
 ],
 "metadata": {
  "kernelspec": {
   "display_name": "Python 2",
   "language": "python",
   "name": "python2"
  },
  "language_info": {
   "codemirror_mode": {
    "name": "ipython",
    "version": 2
   },
   "file_extension": ".py",
   "mimetype": "text/x-python",
   "name": "python",
   "nbconvert_exporter": "python",
   "pygments_lexer": "ipython2",
   "version": "2.7.15"
  }
 },
 "nbformat": 4,
 "nbformat_minor": 2
}
